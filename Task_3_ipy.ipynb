{
  "nbformat": 4,
  "nbformat_minor": 0,
  "metadata": {
    "colab": {
      "provenance": []
    },
    "kernelspec": {
      "name": "python3",
      "display_name": "Python 3"
    },
    "language_info": {
      "name": "python"
    }
  },
  "cells": [
    {
      "cell_type": "code",
      "execution_count": 1,
      "metadata": {
        "colab": {
          "base_uri": "https://localhost:8080/"
        },
        "id": "KmbvUW88D-Zz",
        "outputId": "47b79e66-30dd-408b-c65c-c1c92f5033fa"
      },
      "outputs": [
        {
          "output_type": "stream",
          "name": "stdout",
          "text": [
            "City        Los Angeles  New York\n",
            "Date                             \n",
            "2024-01-01           75        32\n",
            "2024-01-02           78        30\n"
          ]
        }
      ],
      "source": [
        "import pandas as pd\n",
        "\n",
        "\n",
        "data = {\n",
        "    'Date': ['2024-01-01', '2024-01-01', '2024-01-02', '2024-01-02'],\n",
        "    'City': ['New York', 'Los Angeles', 'New York', 'Los Angeles'],\n",
        "    'Temperature': [32, 75, 30, 78]\n",
        "}\n",
        "\n",
        "df = pd.DataFrame(data)\n",
        "\n",
        "pivot_df = df.pivot(index='Date', columns='City', values='Temperature')\n",
        "print(pivot_df)\n"
      ]
    },
    {
      "cell_type": "markdown",
      "source": [
        " Using pivot_table() Function"
      ],
      "metadata": {
        "id": "SI5WaopREKfT"
      }
    },
    {
      "cell_type": "code",
      "source": [
        "\n",
        "data = {\n",
        "    'Date': ['2024-01-01', '2024-01-01', '2024-01-02', '2024-01-02', '2024-01-01'],\n",
        "    'City': ['New York', 'Los Angeles', 'New York', 'Los Angeles', 'New York'],\n",
        "    'Sales': [200, 400, 150, 450, 250]\n",
        "}\n",
        "\n",
        "df = pd.DataFrame(data)\n",
        "\n",
        "pivot_table_df = df.pivot_table(index='Date', columns='City', values='Sales', aggfunc='sum', fill_value=0)\n",
        "print(pivot_table_df)\n"
      ],
      "metadata": {
        "colab": {
          "base_uri": "https://localhost:8080/"
        },
        "id": "ENh_nM7LEFRc",
        "outputId": "399d7c66-6b13-4822-bbea-0f1a0b8006a8"
      },
      "execution_count": 2,
      "outputs": [
        {
          "output_type": "stream",
          "name": "stdout",
          "text": [
            "City        Los Angeles  New York\n",
            "Date                             \n",
            "2024-01-01          400       450\n",
            "2024-01-02          450       150\n"
          ]
        }
      ]
    },
    {
      "cell_type": "markdown",
      "source": [
        "Multi-Level Indexing"
      ],
      "metadata": {
        "id": "hZRXnhz6E7SP"
      }
    },
    {
      "cell_type": "code",
      "source": [
        "\n",
        "data = {\n",
        "    'Date': ['2024-01-01', '2024-01-01', '2024-01-02', '2024-01-02', '2024-01-01'],\n",
        "    'City': ['New York', 'Los Angeles', 'New York', 'Los Angeles', 'New York'],\n",
        "    'Product': ['A', 'A', 'B', 'B', 'A'],\n",
        "    'Sales': [200, 400, 150, 450, 250]\n",
        "}\n",
        "\n",
        "df = pd.DataFrame(data)\n",
        "\n",
        "\n",
        "pivot_table_multi_df = df.pivot_table(index=['Date', 'Product'], columns='City', values='Sales', aggfunc='sum', fill_value=0)\n",
        "print(pivot_table_multi_df)\n"
      ],
      "metadata": {
        "colab": {
          "base_uri": "https://localhost:8080/"
        },
        "id": "2tDqqsRhE4Zx",
        "outputId": "c57a5115-f421-4804-cd29-9adaf0e9b63d"
      },
      "execution_count": 3,
      "outputs": [
        {
          "output_type": "stream",
          "name": "stdout",
          "text": [
            "City                Los Angeles  New York\n",
            "Date       Product                       \n",
            "2024-01-01 A                400       450\n",
            "2024-01-02 B                450       150\n"
          ]
        }
      ]
    },
    {
      "cell_type": "markdown",
      "source": [
        "Using Multiple Aggregation Functions"
      ],
      "metadata": {
        "id": "HDQmM_JAFCLA"
      }
    },
    {
      "cell_type": "code",
      "source": [
        "\n",
        "data = {\n",
        "    'Date': ['2024-01-01', '2024-01-01', '2024-01-02', '2024-01-02'],\n",
        "    'City': ['New York', 'Los Angeles', 'New York', 'Los Angeles'],\n",
        "    'Sales': [200, 400, 150, 450],\n",
        "    'Profit': [50, 100, 75, 125]\n",
        "}\n",
        "\n",
        "df = pd.DataFrame(data)\n",
        "\n",
        "\n",
        "pivot_table_multi_agg_df = df.pivot_table(index='Date', columns='City', values=['Sales', 'Profit'], aggfunc=['sum', 'mean'])\n",
        "print(pivot_table_multi_agg_df)\n"
      ],
      "metadata": {
        "colab": {
          "base_uri": "https://localhost:8080/"
        },
        "id": "K1MkRyclE_Pq",
        "outputId": "64e89808-1101-4743-fd3b-6e195fe9338b"
      },
      "execution_count": 4,
      "outputs": [
        {
          "output_type": "stream",
          "name": "stdout",
          "text": [
            "                   sum                                      mean           \\\n",
            "                Profit                Sales               Profit            \n",
            "City       Los Angeles New York Los Angeles New York Los Angeles New York   \n",
            "Date                                                                        \n",
            "2024-01-01         100       50         400      200       100.0     50.0   \n",
            "2024-01-02         125       75         450      150       125.0     75.0   \n",
            "\n",
            "                                 \n",
            "                 Sales           \n",
            "City       Los Angeles New York  \n",
            "Date                             \n",
            "2024-01-01       400.0    200.0  \n",
            "2024-01-02       450.0    150.0  \n"
          ]
        }
      ]
    },
    {
      "cell_type": "markdown",
      "source": [
        "Cross Tabulation with pivot_table()"
      ],
      "metadata": {
        "id": "AVwkmz-VFH4B"
      }
    },
    {
      "cell_type": "code",
      "source": [
        "\n",
        "data = {\n",
        "    'City': ['New York', 'Los Angeles', 'New York', 'Los Angeles', 'New York'],\n",
        "    'Product': ['A', 'A', 'B', 'B', 'A'],\n",
        "    'Sales': [200, 400, 150, 450, 250]\n",
        "}\n",
        "\n",
        "df = pd.DataFrame(data)\n",
        "\n",
        "pivot_table_cross_tab = df.pivot_table(index='City', columns='Product', values='Sales', aggfunc='sum', fill_value=0)\n",
        "print(pivot_table_cross_tab)\n"
      ],
      "metadata": {
        "colab": {
          "base_uri": "https://localhost:8080/"
        },
        "id": "jakvSIx5FGp-",
        "outputId": "8248d318-7ec9-44d8-b37d-58e315fb9a90"
      },
      "execution_count": 5,
      "outputs": [
        {
          "output_type": "stream",
          "name": "stdout",
          "text": [
            "Product        A    B\n",
            "City                 \n",
            "Los Angeles  400  450\n",
            "New York     450  150\n"
          ]
        }
      ]
    },
    {
      "cell_type": "code",
      "source": [],
      "metadata": {
        "id": "7FyCC754FPb5"
      },
      "execution_count": null,
      "outputs": []
    }
  ]
}