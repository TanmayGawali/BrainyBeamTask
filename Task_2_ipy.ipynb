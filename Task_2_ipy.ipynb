{
  "nbformat": 4,
  "nbformat_minor": 0,
  "metadata": {
    "colab": {
      "provenance": []
    },
    "kernelspec": {
      "name": "python3",
      "display_name": "Python 3"
    },
    "language_info": {
      "name": "python"
    }
  },
  "cells": [
    {
      "cell_type": "code",
      "execution_count": null,
      "metadata": {
        "id": "7M06wTgL56Gs"
      },
      "outputs": [],
      "source": []
    },
    {
      "cell_type": "markdown",
      "source": [
        "Using Piot FUNCTION"
      ],
      "metadata": {
        "id": "BJE7jtam6F36"
      }
    },
    {
      "cell_type": "code",
      "source": [
        "import pandas as pd\n",
        "\n",
        "# Sample data\n",
        "data = {\n",
        "    'Date': ['2024-01-01', '2024-01-01', '2024-01-02', '2024-01-02'],\n",
        "    'City': ['New York', 'Los Angeles', 'New York', 'Los Angeles'],\n",
        "    'Temperature': [32, 75, 30, 78]\n",
        "}\n",
        "\n",
        "df = pd.DataFrame(data)\n",
        "\n",
        "# Pivoting to create a table where 'City' becomes columns and 'Date' becomes the index\n",
        "pivot_df = df.pivot(index='Date', columns='City', values='Temperature')\n",
        "print(pivot_df)\n"
      ],
      "metadata": {
        "colab": {
          "base_uri": "https://localhost:8080/"
        },
        "id": "ILXVZOa56Jrx",
        "outputId": "5647a110-9001-471e-fc57-199c96dfe8fa"
      },
      "execution_count": null,
      "outputs": [
        {
          "output_type": "stream",
          "name": "stdout",
          "text": [
            "City        Los Angeles  New York\n",
            "Date                             \n",
            "2024-01-01           75        32\n",
            "2024-01-02           78        30\n"
          ]
        }
      ]
    },
    {
      "cell_type": "markdown",
      "source": [
        "Using Piot_TABLE FUNCTION"
      ],
      "metadata": {
        "id": "Y8wCmzmI6Pdo"
      }
    },
    {
      "cell_type": "code",
      "source": [
        "# Sample data with duplicate entries\n",
        "data = {\n",
        "    'Date': ['2024-01-01', '2024-01-01', '2024-01-02', '2024-01-02', '2024-01-01'],\n",
        "    'City': ['New York', 'Los Angeles', 'New York', 'Los Angeles', 'New York'],\n",
        "    'Sales': [200, 400, 150, 450, 250]\n",
        "}\n",
        "\n",
        "df = pd.DataFrame(data)\n",
        "\n",
        "# Pivot table with aggregation (sum of sales)\n",
        "pivot_table_df = df.pivot_table(index='Date', columns='City', values='Sales', aggfunc='sum', fill_value=0)\n",
        "print(pivot_table_df)\n"
      ],
      "metadata": {
        "colab": {
          "base_uri": "https://localhost:8080/"
        },
        "id": "jTrXZQ6o6LOB",
        "outputId": "d607bc37-7468-409f-c4a3-3db5607930f1"
      },
      "execution_count": null,
      "outputs": [
        {
          "output_type": "stream",
          "name": "stdout",
          "text": [
            "City        Los Angeles  New York\n",
            "Date                             \n",
            "2024-01-01          400       450\n",
            "2024-01-02          450       150\n"
          ]
        }
      ]
    },
    {
      "cell_type": "markdown",
      "source": [
        "Multi-Level Indexing"
      ],
      "metadata": {
        "id": "aV7YwAGY6ZLv"
      }
    },
    {
      "cell_type": "code",
      "source": [
        "# Sample data\n",
        "data = {\n",
        "    'Date': ['2024-01-01', '2024-01-01', '2024-01-02', '2024-01-02', '2024-01-01'],\n",
        "    'City': ['New York', 'Los Angeles', 'New York', 'Los Angeles', 'New York'],\n",
        "    'Product': ['A', 'A', 'B', 'B', 'A'],\n",
        "    'Sales': [200, 400, 150, 450, 250]\n",
        "}\n",
        "\n",
        "df = pd.DataFrame(data)\n",
        "\n",
        "# Pivot table with multi-level indexing (Date, Product) and aggregation\n",
        "pivot_table_multi_df = df.pivot_table(index=['Date', 'Product'], columns='City', values='Sales', aggfunc='sum', fill_value=0)\n",
        "print(pivot_table_multi_df)\n"
      ],
      "metadata": {
        "colab": {
          "base_uri": "https://localhost:8080/"
        },
        "id": "Kn7V1TIg6Suz",
        "outputId": "c069c9f0-7148-4a29-c072-7256c1f1aa93"
      },
      "execution_count": null,
      "outputs": [
        {
          "output_type": "stream",
          "name": "stdout",
          "text": [
            "City                Los Angeles  New York\n",
            "Date       Product                       \n",
            "2024-01-01 A                400       450\n",
            "2024-01-02 B                450       150\n"
          ]
        }
      ]
    },
    {
      "cell_type": "markdown",
      "source": [
        "Using Multiple Aggregation Functions"
      ],
      "metadata": {
        "id": "2JjnQCad6cly"
      }
    },
    {
      "cell_type": "code",
      "source": [
        "# Sample data\n",
        "data = {\n",
        "    'Date': ['2024-01-01', '2024-01-01', '2024-01-02', '2024-01-02'],\n",
        "    'City': ['New York', 'Los Angeles', 'New York', 'Los Angeles'],\n",
        "    'Sales': [200, 400, 150, 450],\n",
        "    'Profit': [50, 100, 75, 125]\n",
        "}\n",
        "\n",
        "df = pd.DataFrame(data)\n",
        "\n",
        "# Pivot table with multiple aggregation functions\n",
        "pivot_table_multi_agg_df = df.pivot_table(index='Date', columns='City', values=['Sales', 'Profit'], aggfunc=['sum', 'mean'])\n",
        "print(pivot_table_multi_agg_df)\n"
      ],
      "metadata": {
        "colab": {
          "base_uri": "https://localhost:8080/"
        },
        "id": "grCbqHdG6atR",
        "outputId": "24e50498-5e10-4fc0-c985-e1c2c5bbb586"
      },
      "execution_count": null,
      "outputs": [
        {
          "output_type": "stream",
          "name": "stdout",
          "text": [
            "                   sum                                      mean           \\\n",
            "                Profit                Sales               Profit            \n",
            "City       Los Angeles New York Los Angeles New York Los Angeles New York   \n",
            "Date                                                                        \n",
            "2024-01-01         100       50         400      200       100.0     50.0   \n",
            "2024-01-02         125       75         450      150       125.0     75.0   \n",
            "\n",
            "                                 \n",
            "                 Sales           \n",
            "City       Los Angeles New York  \n",
            "Date                             \n",
            "2024-01-01       400.0    200.0  \n",
            "2024-01-02       450.0    150.0  \n"
          ]
        }
      ]
    },
    {
      "cell_type": "markdown",
      "source": [
        "Cross Tabulation with pivot_table()\n",
        "\n"
      ],
      "metadata": {
        "id": "jCEQLgVc6_Nq"
      }
    },
    {
      "cell_type": "code",
      "source": [
        "# Sample data\n",
        "data = {\n",
        "    'City': ['New York', 'Los Angeles', 'New York', 'Los Angeles', 'New York'],\n",
        "    'Product': ['A', 'A', 'B', 'B', 'A'],\n",
        "    'Sales': [200, 400, 150, 450, 250]\n",
        "}\n",
        "\n",
        "df = pd.DataFrame(data)\n",
        "\n",
        "# Cross-tabulation of cities and products\n",
        "pivot_table_cross_tab = df.pivot_table(index='City', columns='Product', values='Sales', aggfunc='sum', fill_value=0)\n",
        "print(pivot_table_cross_tab)\n"
      ],
      "metadata": {
        "colab": {
          "base_uri": "https://localhost:8080/"
        },
        "id": "C1a8J8fI7Df3",
        "outputId": "5fd30ef8-b7e7-45ad-f39c-73257ee0ca3a"
      },
      "execution_count": null,
      "outputs": [
        {
          "output_type": "stream",
          "name": "stdout",
          "text": [
            "Product        A    B\n",
            "City                 \n",
            "Los Angeles  400  450\n",
            "New York     450  150\n"
          ]
        }
      ]
    },
    {
      "cell_type": "markdown",
      "source": [],
      "metadata": {
        "id": "JU-YMZfX6bbp"
      }
    }
  ]
}